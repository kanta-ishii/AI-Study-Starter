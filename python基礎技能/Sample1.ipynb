{
 "cells": [
  {
   "cell_type": "markdown",
   "metadata": {},
   "source": [
    " ## Pythonの基本\n",
    " * 変数\n",
    " * 数値\n",
    " * 文字列 (インデックス、スライス、メソッド、代入)\n",
    " * リスト型・操作・コピー\n",
    " * タプル型・アンバッキング\n",
    " * 辞書型・メソッド・コピー\n",
    " * 集合型・メソッド"
   ]
  },
  {
   "cell_type": "code",
   "execution_count": 5,
   "metadata": {},
   "outputs": [
    {
     "name": "stdout",
     "output_type": "stream",
     "text": [
      "1 <class 'int'>\n",
      "Bob <class 'str'>\n",
      "True <class 'bool'>\n"
     ]
    }
   ],
   "source": [
    "# 変数の定義\n",
    "num = 1\n",
    "name = 'Bob'\n",
    "is_ok = True\n",
    "\n",
    "print(num, type(num))\n",
    "print(name, type(name))\n",
    "print(is_ok, type(is_ok))"
   ]
  },
  {
   "cell_type": "code",
   "execution_count": 10,
   "metadata": {},
   "outputs": [
    {
     "name": "stdout",
     "output_type": "stream",
     "text": [
      "Hi,\n",
      "Mike."
     ]
    }
   ],
   "source": [
    "print('Hi', 'Mike', sep=',\\n', end= '.')"
   ]
  },
  {
   "cell_type": "code",
   "execution_count": 17,
   "metadata": {},
   "outputs": [
    {
     "name": "stdout",
     "output_type": "stream",
     "text": [
      "3.14\n",
      "5.0\n",
      "3.321928094887362\n"
     ]
    }
   ],
   "source": [
    "# 数値を丸めてくれる関数\n",
    "pi = 3.1415151515\n",
    "print(round(pi, 2)) # 下２桁にしてくれるround関数\n",
    "\n",
    "# 数学的な計算\n",
    "import math \n",
    "\n",
    "result = math.sqrt(25) # 平方根\n",
    "print(result)\n",
    "\n",
    "y = math.log2(10) # log計算\n",
    "print(y)\n",
    "\n",
    "# print(help(math)) # ドキュメントが出力される"
   ]
  },
  {
   "cell_type": "code",
   "execution_count": 24,
   "metadata": {},
   "outputs": [
    {
     "name": "stdout",
     "output_type": "stream",
     "text": [
      "智慧jふぃいあfhし\n",
      "jふぃえfh\n",
      "C:\\name\\name\n",
      "###############\n",
      "\n",
      "list1\n",
      "list2\n",
      "list3\n",
      "\n",
      "###############\n",
      "list1\n",
      "list2\n",
      "list3\n",
      "###############\n",
      "12\n"
     ]
    }
   ],
   "source": [
    "# 文字列操作\n",
    "print('智慧jふぃいあfhし\\njふぃえfh') # 改行 = \\n\n",
    "\n",
    "# path を打った時\\nが含まれる際\n",
    "print(r'C:\\name\\name') # 生のデータということで rowの代わりにrをつける\n",
    "print('###############')\n",
    "print('''\n",
    "list1\n",
    "list2\n",
    "list3\n",
    "''') # 改行が入ってしまう。\n",
    "print('###############')\n",
    "print('''\\\n",
    "list1\n",
    "list2\n",
    "list3\\\n",
    "''') # \\(バックスラッシュで改行を消せる)\n",
    "print('###############')\n",
    "\n",
    "# 数を数える\n",
    "bb = 'llsllllsllll'\n",
    "print(len(bb))"
   ]
  },
  {
   "cell_type": "code",
   "execution_count": 53,
   "metadata": {},
   "outputs": [
    {
     "name": "stdout",
     "output_type": "stream",
     "text": [
      "[1, 232, 496, 19, 20]\n",
      "[1, 232, 496]\n",
      "[4, 232, 496, 19, 20]\n",
      "[1, 900, 232, 496, 19, 20]\n",
      "[900, 232, 496, 19, 20]\n",
      "[900, 232, 19, 20]\n",
      "1\n",
      "0\n",
      "[1, 2, 3, 4, 5, 6, 7]\n",
      "[7, 6, 5, 4, 3, 2, 1]\n",
      "[1, 2, 3, 4, 5, 6, 7]\n",
      "['My', 'name', 'is', 'Mike']\n",
      "My name is Mike\n"
     ]
    }
   ],
   "source": [
    "#　リスト型\n",
    "l = [1, 232, 496, 19 , 20]\n",
    "print(l)\n",
    "print(l[:3])\n",
    "l[0] = 4\n",
    "print(l)\n",
    "h = [1, 232, 496, 19 , 20]\n",
    "h.append(100) #最後に入る\n",
    "h.insert(1, 900) #次に入る\n",
    "h.pop() #リスト最後の項目を消す\n",
    "print(h)\n",
    "del h[0] #０番目を消す\n",
    "#del h #こうすうると全部消えるから気を付ける\n",
    "print(h)\n",
    "h.remove(496) #496を消す \n",
    "print(h)\n",
    "\n",
    "r = [1,2,3,4,5,7,6]\n",
    "print(r.index(2))\n",
    "print(r.count(r))\n",
    "r.sort() #順番に並び替える\n",
    "print(r)\n",
    "r.sort(reverse=True) #逆並び順にする\n",
    "print(r)\n",
    "r.reverse() #逆並び順にする\n",
    "print(r)\n",
    "\n",
    "sp = 'My name is Mike'\n",
    "to_sprit = sp.split(' ') #split()カッコの中身で区切ってリストに格納する\n",
    "print(to_sprit)\n",
    "to_join = ' '.join(to_sprit) #リストを' 'の中身を使って結合する \n",
    "print(to_join)"
   ]
  },
  {
   "cell_type": "code",
   "execution_count": null,
   "metadata": {},
   "outputs": [],
   "source": []
  }
 ],
 "metadata": {
  "kernelspec": {
   "display_name": "Python 3",
   "language": "python",
   "name": "python3"
  },
  "language_info": {
   "codemirror_mode": {
    "name": "ipython",
    "version": 3
   },
   "file_extension": ".py",
   "mimetype": "text/x-python",
   "name": "python",
   "nbconvert_exporter": "python",
   "pygments_lexer": "ipython3",
   "version": "3.8.2"
  }
 },
 "nbformat": 4,
 "nbformat_minor": 4
}
