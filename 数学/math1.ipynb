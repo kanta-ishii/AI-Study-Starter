{
 "cells": [
  {
   "cell_type": "markdown",
   "metadata": {},
   "source": [
    "\n"
   ]
  },
  {
   "cell_type": "markdown",
   "metadata": {},
   "source": [
    "### 四則演算\n",
    "* $1 + 2 = 3$<br>\n",
    "* $2 - 3 = 5$<br>\n",
    "* $3 \\times 2 = 6$<br>\n",
    "* $6 \\div 3 = 2$<br>"
   ]
  },
  {
   "cell_type": "markdown",
   "metadata": {},
   "source": [
    "### オイラーの等式\n",
    "* $e^{i\\pi} + 1 = 0$<br>\n",
    "* $e^{i\\pi} = -1$"
   ]
  },
  {
   "cell_type": "markdown",
   "metadata": {},
   "source": [
    "### 分数 \\frac\n",
    "* $\\frac{1}{2} - \\frac{1}{3} = \\frac{1}{6}$<br>\n",
    "* $\\frac{a + b}{2ab}$\n"
   ]
  },
  {
   "cell_type": "markdown",
   "metadata": {},
   "source": [
    "### 乗算 見にくいからスペースも使う\n",
    "* 上付き文字<br>\n",
    "$X^{a^{\\,b^{\\:(c + d)}}}$\n",
    "* 下付き文字<br>\n",
    "$a_{i_{\\,j_{\\:(k + l)}}}$"
   ]
  },
  {
   "cell_type": "markdown",
   "metadata": {},
   "source": [
    "### イコールを揃える\n",
    "* $\n",
    "\\begin{align}\n",
    "f_{(x)}&=x^2+3x+2 \\\\\n",
    "&= (x+1)(x+2)\n",
    "\\end{align}\n",
    "$"
   ]
  },
  {
   "cell_type": "markdown",
   "metadata": {},
   "source": [
    "### 括弧\n",
    "$a\\Biggl(b\\biggl(c\\Bigl(d\\bigl(e(f + g)\\bigr)\\Bigr)\\biggr)\\Biggr)$"
   ]
  },
  {
   "cell_type": "markdown",
   "metadata": {},
   "source": [
    "### 極限　\n",
    "* $$\\lim_{n\\to\\infty}$$\n",
    "* $$\n",
    "\\lim_{h \\to 0}\\frac{f_{(x+h)-f_{x}}}{h}\n",
    "$$"
   ]
  },
  {
   "cell_type": "code",
   "execution_count": null,
   "metadata": {},
   "outputs": [],
   "source": []
  },
  {
   "cell_type": "code",
   "execution_count": null,
   "metadata": {},
   "outputs": [],
   "source": []
  },
  {
   "cell_type": "code",
   "execution_count": null,
   "metadata": {},
   "outputs": [],
   "source": []
  },
  {
   "cell_type": "markdown",
   "metadata": {},
   "source": []
  },
  {
   "cell_type": "markdown",
   "metadata": {},
   "source": []
  }
 ],
 "metadata": {
  "kernelspec": {
   "display_name": "Python 3",
   "language": "python",
   "name": "python3"
  },
  "language_info": {
   "codemirror_mode": {
    "name": "ipython",
    "version": 3
   },
   "file_extension": ".py",
   "mimetype": "text/x-python",
   "name": "python",
   "nbconvert_exporter": "python",
   "pygments_lexer": "ipython3",
   "version": "3.7.7"
  }
 },
 "nbformat": 4,
 "nbformat_minor": 4
}
