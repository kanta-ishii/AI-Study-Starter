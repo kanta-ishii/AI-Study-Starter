{
 "cells": [
  {
   "cell_type": "markdown",
   "metadata": {},
   "source": [
    " ## Pythonの基本\n",
    " * 変数\n",
    " * 数値\n",
    " * 文字列 (インデックス、スライス、メソッド、代入)\n",
    " * リスト型・操作・コピー\n",
    " * タプル型・アンバッキング\n",
    " * 辞書型・メソッド・コピー\n",
    " * 集合型・メソッド\n",
    " * if文 range()"
   ]
  },
  {
   "cell_type": "code",
   "execution_count": 1,
   "metadata": {},
   "outputs": [
    {
     "name": "stdout",
     "output_type": "stream",
     "text": [
      "1 <class 'int'>\n",
      "Bob <class 'str'>\n",
      "True <class 'bool'>\n"
     ]
    }
   ],
   "source": [
    "# 変数の定義\n",
    "num = 1\n",
    "name = 'Bob'\n",
    "is_ok = True\n",
    "\n",
    "print(num, type(num))\n",
    "print(name, type(name))\n",
    "print(is_ok, type(is_ok))"
   ]
  },
  {
   "cell_type": "code",
   "execution_count": 2,
   "metadata": {},
   "outputs": [
    {
     "name": "stdout",
     "output_type": "stream",
     "text": [
      "Hi,\n",
      "Mike."
     ]
    }
   ],
   "source": [
    "print('Hi', 'Mike', sep=',\\n', end= '.')"
   ]
  },
  {
   "cell_type": "code",
   "execution_count": 3,
   "metadata": {},
   "outputs": [
    {
     "name": "stdout",
     "output_type": "stream",
     "text": [
      "3.14\n",
      "5.0\n",
      "3.321928094887362\n"
     ]
    }
   ],
   "source": [
    "# 数値を丸めてくれる関数\n",
    "pi = 3.1415151515\n",
    "print(round(pi, 2)) # 下２桁にしてくれるround関数\n",
    "\n",
    "# 数学的な計算\n",
    "import math \n",
    "\n",
    "result = math.sqrt(25) # 平方根\n",
    "print(result)\n",
    "\n",
    "y = math.log2(10) # log計算\n",
    "print(y)\n",
    "\n",
    "# print(help(math)) # ドキュメントが出力される"
   ]
  },
  {
   "cell_type": "code",
   "execution_count": 4,
   "metadata": {},
   "outputs": [
    {
     "name": "stdout",
     "output_type": "stream",
     "text": [
      "智慧jふぃいあfhし\n",
      "jふぃえfh\n",
      "C:\\name\\name\n",
      "###############\n",
      "\n",
      "list1\n",
      "list2\n",
      "list3\n",
      "\n",
      "###############\n",
      "list1\n",
      "list2\n",
      "list3\n",
      "###############\n",
      "12\n"
     ]
    }
   ],
   "source": [
    "# 文字列操作\n",
    "print('智慧jふぃいあfhし\\njふぃえfh') # 改行 = \\n\n",
    "\n",
    "# path を打った時\\nが含まれる際\n",
    "print(r'C:\\name\\name') # 生のデータということで rowの代わりにrをつける\n",
    "print('###############')\n",
    "print('''\n",
    "list1\n",
    "list2\n",
    "list3\n",
    "''') # 改行が入ってしまう。\n",
    "print('###############')\n",
    "print('''\\\n",
    "list1\n",
    "list2\n",
    "list3\\\n",
    "''') # \\(バックスラッシュで改行を消せる)\n",
    "print('###############')\n",
    "\n",
    "# 数を数える\n",
    "bb = 'llsllllsllll'\n",
    "print(len(bb))"
   ]
  },
  {
   "cell_type": "code",
   "execution_count": 5,
   "metadata": {},
   "outputs": [
    {
     "name": "stdout",
     "output_type": "stream",
     "text": [
      "[1, 232, 496, 19, 20]\n",
      "[1, 232, 496]\n",
      "[4, 232, 496, 19, 20]\n",
      "[1, 900, 232, 496, 19, 20]\n",
      "[900, 232, 496, 19, 20]\n",
      "[900, 232, 19, 20]\n",
      "1\n",
      "0\n",
      "[1, 2, 3, 4, 5, 6, 7]\n",
      "[7, 6, 5, 4, 3, 2, 1]\n",
      "[1, 2, 3, 4, 5, 6, 7]\n",
      "['My', 'name', 'is', 'Mike']\n",
      "My name is Mike\n",
      "[1, 2, 3, 4, 5] [10, 2, 3, 4, 5]\n",
      "4532936528\n",
      "4532936048\n"
     ]
    }
   ],
   "source": [
    "#　リスト型\n",
    "l = [1, 232, 496, 19 , 20]\n",
    "print(l)\n",
    "print(l[:3])\n",
    "l[0] = 4\n",
    "print(l)\n",
    "h = [1, 232, 496, 19 , 20]\n",
    "h.append(100) #最後に入る\n",
    "h.insert(1, 900) #次に入る\n",
    "h.pop() #リスト最後の項目を消す\n",
    "print(h)\n",
    "del h[0] #０番目を消す\n",
    "#del h #こうすうると全部消えるから気を付ける\n",
    "print(h)\n",
    "h.remove(496) #496を消す \n",
    "print(h)\n",
    "\n",
    "r = [1,2,3,4,5,7,6]\n",
    "print(r.index(2))\n",
    "print(r.count(r))\n",
    "r.sort() #順番に並び替える\n",
    "print(r)\n",
    "r.sort(reverse=True) #逆並び順にする\n",
    "print(r)\n",
    "r.reverse() #逆並び順にする\n",
    "print(r)\n",
    "\n",
    "sp = 'My name is Mike'\n",
    "to_sprit = sp.split(' ') #split()カッコの中身で区切ってリストに格納する\n",
    "print(to_sprit)\n",
    "to_join = ' '.join(to_sprit) #リストを' 'の中身を使って結合する \n",
    "print(to_join)\n",
    "\n",
    "i = [1, 2, 3, 4, 5]\n",
    "y = i.copy() \n",
    "y[0] = 10\n",
    "print(i, y)\n",
    "print(id(i))\n",
    "print(id(y))"
   ]
  },
  {
   "cell_type": "code",
   "execution_count": 6,
   "metadata": {},
   "outputs": [
    {
     "name": "stdout",
     "output_type": "stream",
     "text": [
      "1\n",
      "3\n",
      "<class 'tuple'>\n",
      "(19, 1, 2, 3, 4, 5)\n"
     ]
    }
   ],
   "source": [
    "#タブル = 中身を書き換えられないことは便利\n",
    "i = (1, 2, 3, 4, 5)\n",
    "print(i.count(5))\n",
    "print(i.index(4))\n",
    "print(type(i))\n",
    "new_tapul = (19,) + i\n",
    "print(new_tapul)"
   ]
  },
  {
   "cell_type": "code",
   "execution_count": 7,
   "metadata": {},
   "outputs": [
    {
     "name": "stdout",
     "output_type": "stream",
     "text": [
      "{'x': 10, 'y': 20}\n",
      "dict_keys(['x', 'y'])\n",
      "dict_values([10, 20])\n",
      "{'x': 100, 'y': 20, 'z': 200}\n",
      "100\n",
      "100\n",
      "{'y': 20, 'z': 200}\n",
      "True\n"
     ]
    }
   ],
   "source": [
    "# 辞書　 {key : value}\n",
    "d = {'x': 10, 'y': 20}\n",
    "d2 = {'x': 100, 'z': 200}\n",
    "print(d)\n",
    "print(d.keys())\n",
    "print(d.values())\n",
    "d.update(d2) #dに上書きする\n",
    "print(d)\n",
    "print(d.get('x'))\n",
    "print(d['x'])\n",
    "d.pop('x') #xを消す\n",
    "print(d)\n",
    "print('y' in d)"
   ]
  },
  {
   "cell_type": "code",
   "execution_count": 10,
   "metadata": {},
   "outputs": [
    {
     "name": "stdout",
     "output_type": "stream",
     "text": [
      "<class 'set'>\n",
      "{1, 2, 3, 4, 5, 7}\n",
      "{1, 2, 3}\n",
      "{1, 2, 3, 4}\n"
     ]
    }
   ],
   "source": [
    "# 集合型\n",
    "c = {1, 2, 3, 4, 5, 7, 7}\n",
    "b = {1, 2, 3}\n",
    "print(type(c))\n",
    "#print(a - b)\n",
    "#print(b - a)\n",
    "print(c)\n",
    "print(b)\n",
    "b.add(4)\n",
    "print(b)\n",
    "#help(set)"
   ]
  },
  {
   "cell_type": "code",
   "execution_count": 11,
   "metadata": {},
   "outputs": [
    {
     "name": "stdout",
     "output_type": "stream",
     "text": [
      "{'A'}\n"
     ]
    }
   ],
   "source": [
    "my_friend = {'A', 'B', 'C'}\n",
    "your_friend = {'A', 'D', 'E'}\n",
    "print(my_friend & your_friend) #集合"
   ]
  },
  {
   "cell_type": "code",
   "execution_count": 12,
   "metadata": {},
   "outputs": [
    {
     "name": "stdout",
     "output_type": "stream",
     "text": [
      "Zero\n"
     ]
    }
   ],
   "source": [
    "# if文\n",
    "x = 10\n",
    "if x > 0:\n",
    "    print('Zero')\n",
    "elif x == 0:\n",
    "    print('10000000')\n",
    "else:\n",
    "    print('Error')"
   ]
  },
  {
   "cell_type": "code",
   "execution_count": 13,
   "metadata": {},
   "outputs": [
    {
     "name": "stdout",
     "output_type": "stream",
     "text": [
      "in\n",
      "not in\n",
      "NO!\n",
      "NO!\n",
      "OK!\n",
      "True\n",
      "False\n"
     ]
    }
   ],
   "source": [
    "y = [1, 3, 5]\n",
    "x = 1\n",
    "\n",
    "if x in y:\n",
    "    print('in')\n",
    "    \n",
    "if 100 not in y:\n",
    "    print('not in')\n",
    "    \n",
    "is_ok = []\n",
    "is_ok1 = 0\n",
    "is_ok2 = 1\n",
    "if is_ok:  #空のリストが入っている場合\n",
    "    print('OK!')\n",
    "else:\n",
    "    print('NO!')\n",
    "if is_ok1:  #ゼロが入っている場合\n",
    "    print('OK!')\n",
    "else:\n",
    "    print('NO!')\n",
    "if is_ok2:  #空or0以外が入っている場合\n",
    "    print('OK!')\n",
    "else:\n",
    "    print('NO!')\n",
    "    \n",
    "print(1 == True) #1がTrueかどうか\n",
    "print(1 is True) #1とTrueは同じかどうか"
   ]
  },
  {
   "cell_type": "code",
   "execution_count": 15,
   "metadata": {},
   "outputs": [
    {
     "name": "stdout",
     "output_type": "stream",
     "text": [
      "0\n",
      "1\n",
      "2\n",
      "3\n",
      "4\n",
      "done\n"
     ]
    },
    {
     "name": "stdin",
     "output_type": "stream",
     "text": [
      "Enter: 10000\n"
     ]
    },
    {
     "name": "stdout",
     "output_type": "stream",
     "text": [
      "100以上\n"
     ]
    }
   ],
   "source": [
    "# while\n",
    "\n",
    "count = 0\n",
    "while count < 5:\n",
    "    print(count)\n",
    "    count += 1 #忘れると無限に...\n",
    "else:\n",
    "    print('done')\n",
    "    #途中でbrakeをすると出力されない\n",
    "while True:\n",
    "    num = input('Enter:')\n",
    "    if num > str(100):\n",
    "        print('100以上')\n",
    "        break\n",
    "    print('next')"
   ]
  },
  {
   "cell_type": "code",
   "execution_count": 11,
   "metadata": {},
   "outputs": [
    {
     "name": "stdout",
     "output_type": "stream",
     "text": [
      "0 hello\n",
      "1 hello\n",
      "2 hello\n",
      "3 hello\n",
      "4 hello\n",
      "5 hello\n",
      "6 hello\n",
      "7 hello\n",
      "8 hello\n",
      "9 hello\n",
      "end\n",
      "end\n",
      "end\n",
      "end\n",
      "end\n",
      "end\n",
      "end\n",
      "end\n",
      "end\n",
      "end\n",
      "frute\n",
      "frute\n",
      "frute\n",
      "0 frute\n",
      "1 frute\n",
      "2 frute\n",
      "Mon apple coffe\n",
      "Tue banana tea\n",
      "Win orange beer\n"
     ]
    }
   ],
   "source": [
    "for i in range(10):\n",
    "    print(i, 'hello')\n",
    "    \n",
    "for _ in range(10): #他では使わないよ~ってことの「_」\n",
    "    print('end')\n",
    "\n",
    "for frute in ['a', 'b', 'c']:\n",
    "    print('frute')\n",
    "\n",
    "for i, frute in enumerate(['a', 'b', 'c']):\n",
    "    print(i, 'frute')\n",
    "    \n",
    "days = ['Mon', 'Tue', 'Win']\n",
    "flutes = ['apple', 'banana', 'orange']\n",
    "drinks = ['coffe', 'tea', 'beer']\n",
    "\n",
    "for day, flute, drink in zip(days, flutes, drinks): #3つ以上の場合\n",
    "    print(day, flute, drink)"
   ]
  },
  {
   "cell_type": "code",
   "execution_count": 15,
   "metadata": {},
   "outputs": [
    {
     "name": "stdout",
     "output_type": "stream",
     "text": [
      "word = familyname\n",
      "name\n",
      "age\n",
      "entree beef\n",
      "drink coffee\n",
      "dessert ice\n"
     ]
    }
   ],
   "source": [
    "# 位置引数\n",
    "def say(word, *args): # argsに引数以降を全部入れられる\n",
    "    print('word =', word)\n",
    "    for arg in args:\n",
    "        print(arg)\n",
    "        \n",
    "say('familyname', 'name', 'age')\n",
    "# キーワード引数\n",
    "def menu(**kwargs): #キーワードを紐ずけて\n",
    "    for k, v in kwargs.items():\n",
    "        print(k, v)\n",
    "        \n",
    "#menu(entree='beef', drink='coffee')\n",
    "d = {\n",
    "    'entree': 'beef',\n",
    "    'drink': 'coffee',\n",
    "    'dessert': 'ice',\n",
    "}\n",
    "menu(**d) #dが展開されて挿入される"
   ]
  },
  {
   "cell_type": "code",
   "execution_count": 29,
   "metadata": {},
   "outputs": [
    {
     "name": "stdout",
     "output_type": "stream",
     "text": [
      "Mon\n",
      "Tue\n",
      "Wed\n",
      "Thu\n",
      "Fri\n",
      "Sat\n",
      "Sun\n",
      "Mon\n",
      "Tue\n",
      "Wed\n",
      "Thu\n",
      "Fri\n",
      "Sat\n",
      "Sun\n",
      "mon\n",
      "tue\n",
      "wed\n",
      "thu\n",
      "fri\n",
      "sat\n",
      "sun\n",
      "[1, 2, 3, 4, 5]\n",
      "[2, 4]\n",
      "{1: 5, 2: 6, 3: 7, 4: 8, 5: 9}\n"
     ]
    }
   ],
   "source": [
    "# ラムダ\n",
    "l = ['Mon', 'tue', 'Wed', 'Thu', 'fri', 'sat', 'Sun']\n",
    "def change_words(words, func):\n",
    "    for word in words:\n",
    "        print(func(word))\n",
    "#def sample_funk(word):\n",
    "#        return word.capitalize()\n",
    "sample_func = lambda word: word.capitalize() #上と同じ\n",
    "change_words(l, sample_func) \n",
    "\n",
    "#内包表記も リスト,辞書,集合\n",
    "change_words(l, lambda word: word.capitalize()) #上大文字とか\n",
    "change_words(l, lambda word: word.lower()) #上子文字とか\n",
    "\n",
    "t = (1, 2, 3, 4, 5)\n",
    "r = []\n",
    "for i in t :\n",
    "    r.append(i)\n",
    "print(r)\n",
    "f = r.copy()\n",
    "f = [i for i in t if i % 2 ==0] # 使いまくらいない\n",
    "print(f)\n",
    "w = [1, 2, 3, 4, 5]\n",
    "y = [5, 6, 7, 8, 9]\n",
    "w_y = {x:y for x, y in zip(w, y)}\n",
    "print(w_y)\n",
    "#集合も似たようなものなので省く"
   ]
  },
  {
   "cell_type": "code",
   "execution_count": 30,
   "metadata": {},
   "outputs": [
    {
     "name": "stdout",
     "output_type": "stream",
     "text": [
      "Don't worry: list index out of range\n",
      "last\n"
     ]
    }
   ],
   "source": [
    "#エラーハンドリング\n",
    "l = [1, 2, 3]\n",
    "i = 5\n",
    "\n",
    "try: \n",
    "    l[i]\n",
    "except IndexError as exc:\n",
    "    print('Don\\'t worry: {}'.format(exc))\n",
    "print('last')"
   ]
  },
  {
   "cell_type": "code",
   "execution_count": null,
   "metadata": {},
   "outputs": [],
   "source": []
  }
 ],
 "metadata": {
  "kernelspec": {
   "display_name": "Python 3",
   "language": "python",
   "name": "python3"
  },
  "language_info": {
   "codemirror_mode": {
    "name": "ipython",
    "version": 3
   },
   "file_extension": ".py",
   "mimetype": "text/x-python",
   "name": "python",
   "nbconvert_exporter": "python",
   "pygments_lexer": "ipython3",
   "version": "3.7.7"
  }
 },
 "nbformat": 4,
 "nbformat_minor": 4
}
