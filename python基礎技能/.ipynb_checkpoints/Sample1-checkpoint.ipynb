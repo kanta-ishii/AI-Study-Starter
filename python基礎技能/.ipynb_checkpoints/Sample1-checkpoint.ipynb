{
 "cells": [
  {
   "cell_type": "markdown",
   "metadata": {},
   "source": [
    " ## Pythonの基本\n",
    " * 変数\n",
    " * 数値\n",
    " * 文字列 (インデックス、スライス、メソッド、代入)\n",
    " * リスト型・操作・コピー\n",
    " * タプル型・アンバッキング\n",
    " * 辞書型・メソッド・コピー\n",
    " * 集合型・メソッド"
   ]
  },
  {
   "cell_type": "code",
   "execution_count": 5,
   "metadata": {},
   "outputs": [
    {
     "name": "stdout",
     "output_type": "stream",
     "text": [
      "1 <class 'int'>\n",
      "Bob <class 'str'>\n",
      "True <class 'bool'>\n"
     ]
    }
   ],
   "source": [
    "# 変数の定義\n",
    "num = 1\n",
    "name = 'Bob'\n",
    "is_ok = True\n",
    "\n",
    "print(num, type(num))\n",
    "print(name, type(name))\n",
    "print(is_ok, type(is_ok))"
   ]
  },
  {
   "cell_type": "code",
   "execution_count": 10,
   "metadata": {},
   "outputs": [
    {
     "name": "stdout",
     "output_type": "stream",
     "text": [
      "Hi,\n",
      "Mike."
     ]
    }
   ],
   "source": [
    "print('Hi', 'Mike', sep=',\\n', end= '.')"
   ]
  },
  {
   "cell_type": "code",
   "execution_count": null,
   "metadata": {},
   "outputs": [],
   "source": []
  }
 ],
 "metadata": {
  "kernelspec": {
   "display_name": "Python 3",
   "language": "python",
   "name": "python3"
  },
  "language_info": {
   "codemirror_mode": {
    "name": "ipython",
    "version": 3
   },
   "file_extension": ".py",
   "mimetype": "text/x-python",
   "name": "python",
   "nbconvert_exporter": "python",
   "pygments_lexer": "ipython3",
   "version": "3.8.2"
  }
 },
 "nbformat": 4,
 "nbformat_minor": 4
}
